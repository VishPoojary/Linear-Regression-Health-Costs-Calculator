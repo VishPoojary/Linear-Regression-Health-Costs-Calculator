{
  "cells": [
    {
      "cell_type": "code",
      "execution_count": null,
      "metadata": {
        "id": "1rRo8oNqZ-Rj"
      },
      "outputs": [],
      "source": [
        "# Import libraries. You may or may not use all of these.\n",
        "!pip install -q git+https://github.com/tensorflow/docs\n",
        "import matplotlib.pyplot as plt\n",
        "import numpy as np\n",
        "import pandas as pd\n",
        "\n",
        "try:\n",
        "  # %tensorflow_version only exists in Colab.\n",
        "  %tensorflow_version 2.x\n",
        "except Exception:\n",
        "  pass\n",
        "import tensorflow as tf\n",
        "\n",
        "from tensorflow import keras\n",
        "from tensorflow.keras import layers\n",
        "\n",
        "import tensorflow_docs as tfdocs\n",
        "import tensorflow_docs.plots\n",
        "import tensorflow_docs.modeling"
      ]
    },
    {
      "cell_type": "code",
      "execution_count": null,
      "metadata": {
        "id": "CiX2FI4gZtTt"
      },
      "outputs": [],
      "source": [
        "# Import data\n",
        "!wget https://cdn.freecodecamp.org/project-data/health-costs/insurance.csv\n",
        "dataset = pd.read_csv('insurance.csv')\n",
        "# dataset.tail()\n",
        "# Check the columns in the dataset\n",
        "print(\"Columns in the dataset:\", dataset.columns.tolist())\n",
        "\n",
        "# Strip any leading or trailing whitespace from column names\n",
        "dataset.columns = dataset.columns.str.strip()\n",
        "\n",
        "\n"
      ]
    },
    {
      "cell_type": "code",
      "execution_count": null,
      "metadata": {
        "id": "LcopvQh3X-kX"
      },
      "outputs": [],
      "source": [
        "# # Convert categorical data to numbers\n",
        "# # One-hot encoding for 'sex', 'smoker', 'region'\n",
        "# dataset = pd.get_dummies(dataset, columns=['sex', 'smoker', 'region'], drop_first=True)\n",
        "\n",
        "# # Split dataset into features and labels\n",
        "# labels = dataset.pop('expenses')\n",
        "# # Split the dataset into training (80%) and testing (20%)\n",
        "# train_dataset, test_dataset = np.split(dataset.sample(frac=1, random_state=42), [int(0.8 * len(dataset))])\n",
        "# train_labels, test_labels = np.split(labels.sample(frac=1, random_state=42), [int(0.8 * len(labels))])\n",
        "\n",
        "# # Normalize the features\n",
        "# train_dataset = (train_dataset - train_dataset.mean()) / train_dataset.std()\n",
        "# test_dataset = (test_dataset - test_dataset.mean()) / test_dataset.std()\n",
        "\n",
        "# # Create the model\n",
        "# model = keras.Sequential([\n",
        "#     layers.Dense(64, activation='relu', input_shape=[len(train_dataset.keys())]),\n",
        "#     layers.Dense(64, activation='relu'),\n",
        "#     layers.Dense(1)  # Output layer\n",
        "# ])\n",
        "\n",
        "# # Compile the model\n",
        "# model.compile(optimizer='adam', loss='mse', metrics=['mae', 'mse'])\n",
        "\n",
        "# # Train the model\n",
        "# history = model.fit(train_dataset, train_labels, epochs=100, validation_split=0.2, verbose=0)\n",
        "\n",
        "# Convert categorical data to numbers\n",
        "# Check if the columns exist\n",
        "categorical_columns = ['sex', 'smoker', 'region']\n",
        "missing_columns = [col for col in categorical_columns if col not in dataset.columns]\n",
        "if missing_columns:\n",
        "    raise KeyError(f\"Missing columns in the dataset: {missing_columns}\")\n",
        "\n",
        "dataset = pd.get_dummies(dataset, columns=categorical_columns, drop_first=True)\n",
        "\n",
        "# Split dataset into features and labels\n",
        "labels = dataset.pop('expenses')\n",
        "# Shuffle the dataset before splitting\n",
        "dataset = dataset.sample(frac=1, random_state=42).reset_index(drop=True)\n",
        "labels = labels.sample(frac=1, random_state=42).reset_index(drop=True)\n",
        "\n",
        "# Split the dataset into training (80%) and testing (20%)\n",
        "split_index = int(0.8 * len(dataset))\n",
        "train_dataset = dataset[:split_index]\n",
        "test_dataset = dataset[split_index:]\n",
        "train_labels = labels[:split_index]\n",
        "test_labels = labels[split_index:]\n",
        "\n",
        "# Normalize the features\n",
        "train_dataset_mean = train_dataset.mean()\n",
        "train_dataset_std = train_dataset.std()\n",
        "train_dataset = (train_dataset - train_dataset_mean) / train_dataset_std\n",
        "test_dataset = (test_dataset - train_dataset_mean) / train_dataset_std\n",
        "\n",
        "# Create the model\n",
        "model = keras.Sequential([\n",
        "    layers.Dense(128, activation='relu', input_shape=[len(train_dataset.keys())]),\n",
        "    layers.Dense(64, activation='relu'),\n",
        "    layers.Dense(32, activation='relu'),\n",
        "    layers.Dense(1)  # Output layer\n",
        "])\n",
        "\n",
        "# Compile the model\n",
        "model.compile(optimizer='adam', loss='mse', metrics=['mae', 'mse'])\n",
        "\n",
        "# Train the model\n",
        "history = model.fit(train_dataset, train_labels, epochs=200, validation_split=0.2, verbose=0)\n"
      ]
    },
    {
      "cell_type": "code",
      "execution_count": null,
      "metadata": {
        "id": "Xe7RXH3N3CWU"
      },
      "outputs": [],
      "source": [
        "# RUN THIS CELL TO TEST YOUR MODEL. DO NOT MODIFY CONTENTS.\n",
        "# Test model by checking how well the model generalizes using the test set.\n",
        "loss, mae, mse = model.evaluate(test_dataset, test_labels, verbose=2)\n",
        "\n",
        "print(\"Testing set Mean Abs Error: {:5.2f} expenses\".format(mae))\n",
        "\n",
        "if mae < 3500:\n",
        "  print(\"You passed the challenge. Great job!\")\n",
        "else:\n",
        "  print(\"The Mean Abs Error must be less than 3500. Keep trying.\")\n",
        "\n",
        "# Plot predictions.\n",
        "test_predictions = model.predict(test_dataset).flatten()\n",
        "\n",
        "a = plt.axes(aspect='equal')\n",
        "plt.scatter(test_labels, test_predictions)\n",
        "plt.xlabel('True values (expenses)')\n",
        "plt.ylabel('Predictions (expenses)')\n",
        "lims = [0, 50000]\n",
        "plt.xlim(lims)\n",
        "plt.ylim(lims)\n",
        "_ = plt.plot(lims,lims)\n"
      ]
    }
  ],
  "metadata": {
    "colab": {
      "name": "fcc_predict_health_costs_with_regression.ipynb",
      "private_outputs": true,
      "provenance": [],
      "toc_visible": true
    },
    "kernelspec": {
      "display_name": "Python 3",
      "name": "python3"
    }
  },
  "nbformat": 4,
  "nbformat_minor": 0
}